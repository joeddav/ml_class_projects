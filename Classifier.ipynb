{
 "cells": [
  {
   "cell_type": "code",
   "execution_count": 1,
   "metadata": {},
   "outputs": [
    {
     "name": "stderr",
     "output_type": "stream",
     "text": [
      "Using TensorFlow backend.\n"
     ]
    }
   ],
   "source": [
    "import tensorflow as tf\n",
    "from keras.datasets import cifar10\n",
    "from keras.utils import to_categorical\n",
    "from sklearn.utils import shuffle\n",
    "import matplotlib.pyplot as plt"
   ]
  },
  {
   "cell_type": "code",
   "execution_count": 2,
   "metadata": {
    "collapsed": true
   },
   "outputs": [],
   "source": [
    "batch_size = 20\n",
    "gpu = True"
   ]
  },
  {
   "cell_type": "code",
   "execution_count": 3,
   "metadata": {
    "collapsed": true
   },
   "outputs": [],
   "source": [
    "def conv(x, filter_size=3, stride=2, num_filters=64, is_output=False, name=\"conv\",\n",
    "         init=tf.contrib.layers.xavier_initializer(), gpu=True):\n",
    "    input_shape = x.get_shape().as_list()\n",
    "    with tf.name_scope(name):\n",
    "        W_shape = (filter_size, filter_size, input_shape[-1], num_filters)\n",
    "        W = tf.get_variable(name + \"-w\", W_shape, initializer=init)\n",
    "        strides = [1, stride, stride, 1]\n",
    "        b = tf.get_variable(name + \"-b\", shape=num_filters, initializer=init)\n",
    "        convolved = tf.nn.conv2d(x, W, strides, \"SAME\", gpu)\n",
    "        output = tf.nn.bias_add(convolved, b)\n",
    "        if is_output:\n",
    "            return output\n",
    "        return tf.nn.relu(output, name=name + \"-relu\")"
   ]
  },
  {
   "cell_type": "code",
   "execution_count": 4,
   "metadata": {
    "collapsed": true
   },
   "outputs": [],
   "source": [
    "def fc(x, out_size=50, is_output=False, name=\"fc\", init=tf.contrib.layers.xavier_initializer(), gpu=True):\n",
    "    batch_size, length = x.get_shape().as_list()\n",
    "    with tf.name_scope(name):\n",
    "        W_shape = (out_size, length)\n",
    "        W = tf.get_variable(name + '-w', W_shape, initializer=init, dtype=tf.float32)\n",
    "        b = tf.get_variable(name + '-b', out_size, initializer=tf.zeros_initializer(), dtype=tf.float32)\n",
    "        multiplied = tf.matmul(W, tf.reshape(x, [-1, batch_size]))\n",
    "        output = tf.reshape(multiplied, [-1, out_size])\n",
    "        output = tf.nn.bias_add(output, b)\n",
    "        return output if is_output else tf.nn.relu(output)"
   ]
  },
  {
   "cell_type": "code",
   "execution_count": 5,
   "metadata": {
    "collapsed": true
   },
   "outputs": [],
   "source": [
    "def flatten(x):\n",
    "    in_shape = x.get_shape().as_list()\n",
    "    flat_len = in_shape[1] * in_shape[2] * in_shape[3]\n",
    "    target_shape = (in_shape[0], flat_len)\n",
    "    return tf.reshape(x, target_shape)"
   ]
  },
  {
   "cell_type": "code",
   "execution_count": 6,
   "metadata": {
    "collapsed": true
   },
   "outputs": [],
   "source": [
    "sess = tf.Session(config=tf.ConfigProto(log_device_placement=True))"
   ]
  },
  {
   "cell_type": "code",
   "execution_count": 7,
   "metadata": {
    "collapsed": true
   },
   "outputs": [],
   "source": [
    "with tf.device('/gpu:0'):\n",
    "    data = tf.placeholder(tf.float32, (batch_size, 32, 32, 3), name='input')\n",
    "    net = conv(data, num_filters=64, stride=2, name='conv1', gpu=gpu)\n",
    "    net = conv(net, num_filters=64, stride=2, name='conv2', gpu=gpu)\n",
    "    net = flatten(net)\n",
    "    net = fc(net, out_size=256, name='fc1', gpu=gpu)\n",
    "    net = fc(net, out_size=10, name='fc2', is_output=True, gpu=gpu)\n",
    "\n",
    "    labels = tf.placeholder(tf.float32, (batch_size, 10), name='labels')\n",
    "    with tf.name_scope(\"loss\"):\n",
    "        ce = tf.nn.softmax_cross_entropy_with_logits(labels=labels, logits=net)\n",
    "        loss = tf.reduce_mean(ce)\n",
    "\n",
    "    with tf.name_scope('accuracy'):\n",
    "        correct = tf.equal(tf.argmax(net,1), tf.argmax(labels,1))\n",
    "        accuracy = tf.reduce_mean(tf.cast(correct, tf.float32))\n",
    "\n",
    "    train_step = tf.train.AdamOptimizer(.0001).minimize(loss)"
   ]
  },
  {
   "cell_type": "code",
   "execution_count": 8,
   "metadata": {
    "collapsed": true
   },
   "outputs": [],
   "source": [
    "writer = tf.summary.FileWriter(\"viz\", sess.graph)\n",
    "writer.close()"
   ]
  },
  {
   "cell_type": "code",
   "execution_count": 9,
   "metadata": {
    "collapsed": true
   },
   "outputs": [],
   "source": [
    "((x_train, y_train), (x_test, y_test)) = cifar10.load_data()"
   ]
  },
  {
   "cell_type": "code",
   "execution_count": 10,
   "metadata": {
    "collapsed": true
   },
   "outputs": [],
   "source": [
    "def prep_x(data):\n",
    "    return data.astype('float32') / 255\n",
    "def prep_y(labels):\n",
    "    return to_categorical(labels)"
   ]
  },
  {
   "cell_type": "code",
   "execution_count": 11,
   "metadata": {
    "collapsed": true
   },
   "outputs": [],
   "source": [
    "x_train = prep_x(x_train)\n",
    "x_test = prep_x(x_test)\n",
    "y_train = prep_y(y_train)\n",
    "y_test = prep_y(y_test)"
   ]
  },
  {
   "cell_type": "code",
   "execution_count": 12,
   "metadata": {},
   "outputs": [
    {
     "name": "stdout",
     "output_type": "stream",
     "text": [
      "Epoch 0 Validation Loss: 2.30342644739 Validation Accuracy: 0.100900002137\n",
      "Epoch 1 Validation Loss: 2.22738877368 Validation Accuracy: 0.147100003086\n",
      "Epoch 2 Validation Loss: 2.13317943215 Validation Accuracy: 0.202100004062\n",
      "Epoch 3 Validation Loss: 2.11451983571 Validation Accuracy: 0.218800005049\n",
      "Epoch 4 Validation Loss: 2.03833651614 Validation Accuracy: 0.251400005497\n",
      "Epoch 5 Validation Loss: 1.99257000113 Validation Accuracy: 0.265700006112\n",
      "Epoch 6 Validation Loss: 1.95477089715 Validation Accuracy: 0.272900006205\n",
      "Epoch 7 Validation Loss: 1.90749452305 Validation Accuracy: 0.310900007293\n",
      "Epoch 8 Validation Loss: 1.85771240616 Validation Accuracy: 0.326800006792\n",
      "Epoch 9 Validation Loss: 1.84530338168 Validation Accuracy: 0.330600007772\n",
      "Epoch 10 Validation Loss: 1.77036895657 Validation Accuracy: 0.350000007451\n",
      "Epoch 11 Validation Loss: 1.8002328918 Validation Accuracy: 0.335400007084\n",
      "Epoch 12 Validation Loss: 1.74760322404 Validation Accuracy: 0.34780000633\n",
      "Epoch 13 Validation Loss: 1.75255264616 Validation Accuracy: 0.352500007205\n",
      "Epoch 14 Validation Loss: 1.70187812471 Validation Accuracy: 0.370900007062\n",
      "Epoch 15 Validation Loss: 1.71910053658 Validation Accuracy: 0.372200007491\n",
      "Epoch 16 Validation Loss: 1.68711455297 Validation Accuracy: 0.374000007361\n",
      "Epoch 17 Validation Loss: 1.71690867639 Validation Accuracy: 0.365500007316\n",
      "Epoch 18 Validation Loss: 1.68186929083 Validation Accuracy: 0.373000007361\n",
      "Epoch 19 Validation Loss: 1.7372255559 Validation Accuracy: 0.358400007121\n"
     ]
    }
   ],
   "source": [
    "sess.run(tf.global_variables_initializer())\n",
    "x_train = x_train\n",
    "y_train = y_train\n",
    "train_accuracies = []\n",
    "train_losses = []\n",
    "val_accuracies = []\n",
    "val_losses = []\n",
    "for e in range(20):\n",
    "    x_train, y_train = shuffle(x_train, y_train)\n",
    "    #train\n",
    "    accuracies = []\n",
    "    losses = []\n",
    "    for i in range(int(len(x_train) / batch_size)):\n",
    "        batch_x = x_train[i:i+batch_size]\n",
    "        batch_y = y_train[i:i+batch_size]\n",
    "        _, loss_res, acc_res = sess.run([train_step, loss, accuracy], {data: batch_x, labels: batch_y})\n",
    "        accuracies.append(acc_res)\n",
    "        losses.append(loss_res)\n",
    "        if (i * batch_size) % 100 == 0 and i > 0: # output every 100 images\n",
    "            train_accuracies.append(sum(accuracies[:20])/20)\n",
    "            train_losses.append(sum(losses[:20])/20)\n",
    "#             print(\"Training Loss:\", sum(losses)/len(losses), \"Training Accuracy:\", sum(accuracies)/len(accuracies))\n",
    "        \n",
    "    #validate\n",
    "    val_acc_sum = 0\n",
    "    val_loss_sum = 0\n",
    "    for i in range(int(len(x_test) / batch_size)):\n",
    "        batch_x = x_test[i:i+batch_size]\n",
    "        batch_y = y_test[i:i+batch_size]\n",
    "        loss_res, acc_res = sess.run([loss, accuracy], {data: batch_x, labels: batch_y})\n",
    "        val_acc_sum += acc_res\n",
    "        val_loss_sum += loss_res\n",
    "    val_acc = val_acc_sum / int(len(x_test) / batch_size)\n",
    "    val_loss = val_loss_sum / int(len(x_test) / batch_size)\n",
    "    val_accuracies.append(val_acc)\n",
    "    val_losses.append(val_loss)\n",
    "    print(\"Epoch\", e, \"Validation Loss:\", val_loss, \"Validation Accuracy:\", val_acc)"
   ]
  },
  {
   "cell_type": "code",
   "execution_count": 20,
   "metadata": {},
   "outputs": [
    {
     "data": {
      "image/png": "[encoded data removed]",
      "text/plain": [
       "<matplotlib.figure.Figure at 0x7faecc151630>"
      ]
     },
     "metadata": {},
     "output_type": "display_data"
    }
   ],
   "source": [
    "plt.plot(val_accuracies)\n",
    "plt.xlabel(\"epoch #\")\n",
    "plt.ylabel(\"val. clasification accuracy\")\n",
    "plt.show()"
   ]
  },
  {
   "cell_type": "markdown",
   "metadata": {},
   "source": [
    "![](https://preview.ibb.co/gq5OmG/graph.png)"
   ]
  },
  {
   "cell_type": "code",
   "execution_count": null,
   "metadata": {
    "collapsed": true
   },
   "outputs": [],
   "source": []
  }
 ],
 "metadata": {
  "kernelspec": {
   "display_name": "Python 3",
   "language": "python",
   "name": "python3"
  },
  "language_info": {
   "codemirror_mode": {
    "name": "ipython",
    "version": 3
   },
   "file_extension": ".py",
   "mimetype": "text/x-python",
   "name": "python",
   "nbconvert_exporter": "python",
   "pygments_lexer": "ipython3",
   "version": "3.6.5"
  }
 },
 "nbformat": 4,
 "nbformat_minor": 2
}
